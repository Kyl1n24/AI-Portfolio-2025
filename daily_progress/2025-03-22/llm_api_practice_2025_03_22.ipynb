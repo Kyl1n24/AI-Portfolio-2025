{
 "cells": [
  {
   "cell_type": "code",
   "execution_count": 7,
   "metadata": {},
   "outputs": [],
   "source": [
    "import os\n",
    "import sys\n",
    "\n",
    "# 获取当前工作目录\n",
    "current_dir = os.getcwd()\n",
    "# 从路径中查找项目根目录\n",
    "if \"AI-Portfolio-2025\" in current_dir:\n",
    "    project_root = current_dir.split(\"AI-Portfolio-2025\")[0] + \"AI-Portfolio-2025\"\n",
    "    sys.path.insert(0, project_root)\n",
    "\n",
    "from utils.helper_functions import print_llm_response"
   ]
  },
  {
   "cell_type": "code",
   "execution_count": 2,
   "metadata": {},
   "outputs": [
    {
     "name": "stdout",
     "output_type": "stream",
     "text": [
      "['llm_api_practice_2025_03_22.ipynb', 'llm_practice.py', '__pycache__']\n"
     ]
    }
   ],
   "source": [
    "print(os.listdir('.'))"
   ]
  },
  {
   "cell_type": "code",
   "execution_count": 3,
   "metadata": {},
   "outputs": [],
   "source": [
    "name = \"Otto Matic\" \n"
   ]
  },
  {
   "cell_type": "code",
   "execution_count": 4,
   "metadata": {},
   "outputs": [],
   "source": [
    "name = \"Otto Matic\"\n",
    "dog_age = \"21/7\"\n",
    "\n"
   ]
  },
  {
   "cell_type": "code",
   "execution_count": null,
   "metadata": {},
   "outputs": [],
   "source": [
    "print(f\"\"\"If {name} were a dog, he would be {dog_age} years old. Describe {name} what life stage that would be.\n",
    "\"\"\")\n"
   ]
  },
  {
   "cell_type": "code",
   "execution_count": 17,
   "metadata": {},
   "outputs": [
    {
     "name": "stdout",
     "output_type": "stream",
     "text": [
      "If Tommy were a dog, being 21/7 years old would be equivalent to being in his prime working years, roughly equivalent to a 7-year-old human. Here's a description of what that might entail:\n",
      "\n",
      "**Energy Level:** Tommy would be in his prime physical condition, with plenty of energy to run, play, and engage in physical activities. He would be highly energetic and playful, with a strong desire to explore and have fun. He might be a bit more laid-back than a 7-year-old human, but still have plenty of enthusiasm and energy to keep up with his surroundings.\n",
      "\n",
      "**Interests:** Tommy would likely be extremely interested in exploring and discovering new things. He would be fascinated by new sights, sounds, and smells, and would be constantly seeking out new experiences to learn and explore. He might be particularly drawn to activities that involve chasing, herding, or playing fetch, as these would be a natural extension of his energetic and playful nature.\n",
      "\n",
      "**Behavior:** Tommy would be a social and outgoing dog, always eager to interact with his human family and other dogs. He would be highly intelligent and curious, often figuring out ways to get what he wants (e.g., by figuring out how to open doors or get treats). He might be a bit mischievous and playful, often getting into trouble by getting into mischief or causing a ruckus. However, he would also be loyal and loving to his family, and would always be happy to provide comfort and companionship when needed.\n",
      "\n",
      "**Personality:** Tommy would be a confident and adventurous dog, always looking for the next big thrill or challenge. He would be a natural-born explorer, always seeking out new experiences and pushing himself to be his best. He would be highly intelligent and resourceful, able to think on his paws and come up with creative solutions to problems. However, he would also be prone to impulsiveness and recklessness, which could sometimes get him into trouble.\n",
      "\n",
      "Overall, being 21/7 years old would be a rambunctious and exciting time for Tommy, full of energy, curiosity, and adventure.\n"
     ]
    }
   ],
   "source": [
    "print_llm_response(f\"\"\"If {name} were a dog, he would be {dog_age} years old. \n",
    "                   Describe {name} what life stage that would be for a dog and what that might entail\n",
    "                   in terms of energy level,interests, and behavior.\"\"\")"
   ]
  },
  {
   "cell_type": "code",
   "execution_count": 6,
   "metadata": {},
   "outputs": [
    {
     "name": "stdout",
     "output_type": "stream",
     "text": [
      "Paris.\n"
     ]
    }
   ],
   "source": [
    "print_llm_response(\"What is the capital of France?\")  "
   ]
  },
  {
   "cell_type": "code",
   "execution_count": 8,
   "metadata": {},
   "outputs": [
    {
     "data": {
      "text/plain": [
       "int"
      ]
     },
     "execution_count": 8,
     "metadata": {},
     "output_type": "execute_result"
    }
   ],
   "source": [
    "type(17)"
   ]
  },
  {
   "cell_type": "code",
   "execution_count": 11,
   "metadata": {},
   "outputs": [
    {
     "name": "stdout",
     "output_type": "stream",
     "text": [
      "12\n"
     ]
    }
   ],
   "source": [
    "print(len(\"Hello world!\"))\n",
    "\n"
   ]
  },
  {
   "cell_type": "code",
   "execution_count": 12,
   "metadata": {},
   "outputs": [
    {
     "data": {
      "text/plain": [
       "42"
      ]
     },
     "execution_count": 12,
     "metadata": {},
     "output_type": "execute_result"
    }
   ],
   "source": [
    "round(42.17)\n",
    "\n"
   ]
  },
  {
   "cell_type": "code",
   "execution_count": 15,
   "metadata": {},
   "outputs": [
    {
     "name": "stdout",
     "output_type": "stream",
     "text": [
      "12\n"
     ]
    }
   ],
   "source": [
    "string_length = len(\"Hello world!\")\n",
    "print(string_length)\n"
   ]
  },
  {
   "cell_type": "code",
   "execution_count": 18,
   "metadata": {},
   "outputs": [
    {
     "name": "stdout",
     "output_type": "stream",
     "text": [
      "Tommy's got five potatoes, a spud-tacular sight\n",
      "A culinary delight, both day and night\n",
      "None\n"
     ]
    }
   ],
   "source": [
    "name = \"Tommy\"\n",
    "potatoes = 4.75\n",
    "prompt = f\"\"\"Write a couplet about my friend {name} who has about {round(potatoes)}potatoes\"\"\"\n",
    "response = print_llm_response(prompt)\n",
    "print(response)\n",
    "\n",
    "\n",
    "\n",
    "\n",
    "\n"
   ]
  },
  {
   "cell_type": "code",
   "execution_count": 21,
   "metadata": {},
   "outputs": [
    {
     "name": "stdout",
     "output_type": "stream",
     "text": [
      "Michael Jordan is often referred to as the \"GOAT\" (Greatest of All Time) in basketball.\n"
     ]
    }
   ],
   "source": [
    "print_llm_response(\"Who is the goat of basketball?\")\n"
   ]
  },
  {
   "cell_type": "code",
   "execution_count": 26,
   "metadata": {},
   "outputs": [
    {
     "name": "stdout",
     "output_type": "stream",
     "text": [
      "I'm an Llama.\n"
     ]
    }
   ],
   "source": [
    "print_llm_response(\"what is your model's name?\")"
   ]
  },
  {
   "cell_type": "code",
   "execution_count": 27,
   "metadata": {},
   "outputs": [
    {
     "name": "stdout",
     "output_type": "stream",
     "text": [
      "One Australian dollar is approximately equal to 1 US dollar. So, 4.5 Australian dollars is equivalent to 4.5 / 1.77 = 2.58 US dollars.\n",
      "\n",
      "As for whether it's a good price, it depends on your personal preferences and budget. However, in general, $2.58 is considered a relatively affordable price for a cup of coffee in Australia.\n",
      "None\n"
     ]
    }
   ],
   "source": [
    "drink=\"coffee\"\n",
    "price=4.5\n",
    "prompt=f\"\"\"I'd like to buy {drink} for {price} australia dollars.\n",
    "How much is that in US dollars?\n",
    "is this a good price?\"\"\"\n",
    "response=print_llm_response(prompt)\n",
    "print(response)\n"
   ]
  },
  {
   "cell_type": "code",
   "execution_count": null,
   "metadata": {},
   "outputs": [],
   "source": []
  },
  {
   "cell_type": "code",
   "execution_count": null,
   "metadata": {},
   "outputs": [],
   "source": []
  },
  {
   "cell_type": "code",
   "execution_count": null,
   "metadata": {},
   "outputs": [],
   "source": []
  }
 ],
 "metadata": {
  "kernelspec": {
   "display_name": "ai-lab",
   "language": "python",
   "name": "python3"
  },
  "language_info": {
   "codemirror_mode": {
    "name": "ipython",
    "version": 3
   },
   "file_extension": ".py",
   "mimetype": "text/x-python",
   "name": "python",
   "nbconvert_exporter": "python",
   "pygments_lexer": "ipython3",
   "version": "3.9.21"
  }
 },
 "nbformat": 4,
 "nbformat_minor": 2
}
