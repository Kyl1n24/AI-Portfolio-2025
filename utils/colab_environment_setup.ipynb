{
  "nbformat": 4,
  "nbformat_minor": 0,
  "metadata": {
    "colab": {
      "provenance": [],
      "authorship_tag": "ABX9TyMZEBH7kP9eKevVMH9TRHba",
      "include_colab_link": true
    },
    "kernelspec": {
      "name": "python3",
      "display_name": "Python 3"
    },
    "language_info": {
      "name": "python"
    }
  },
  "cells": [
    {
      "cell_type": "markdown",
      "metadata": {
        "id": "view-in-github",
        "colab_type": "text"
      },
      "source": [
        "<a href=\"https://colab.research.google.com/github/Kyl1n24/AI-Portfolio-2025/blob/main/utils/colab_environment_setup.ipynb\" target=\"_parent\"><img src=\"https://colab.research.google.com/assets/colab-badge.svg\" alt=\"Open In Colab\"/></a>"
      ]
    },
    {
      "cell_type": "code",
      "execution_count": 1,
      "metadata": {
        "colab": {
          "base_uri": "https://localhost:8080/"
        },
        "id": "uJLTFgWYMIlm",
        "outputId": "0a0f11e6-7049-4e36-c510-c4749e7374a3"
      },
      "outputs": [
        {
          "output_type": "stream",
          "name": "stdout",
          "text": [
            "Cloning into 'AI-Portfolio-2025'...\n",
            "remote: Enumerating objects: 63, done.\u001b[K\n",
            "remote: Counting objects: 100% (63/63), done.\u001b[K\n",
            "remote: Compressing objects: 100% (44/44), done.\u001b[K\n",
            "remote: Total 63 (delta 19), reused 55 (delta 14), pack-reused 0 (from 0)\u001b[K\n",
            "Receiving objects: 100% (63/63), 20.22 KiB | 6.74 MiB/s, done.\n",
            "Resolving deltas: 100% (19/19), done.\n"
          ]
        }
      ],
      "source": [
        "!git clone https://github.com/Kyl1n24/AI-Portfolio-2025"
      ]
    },
    {
      "cell_type": "code",
      "source": [
        "%cd AI-Portfolio-2025"
      ],
      "metadata": {
        "colab": {
          "base_uri": "https://localhost:8080/"
        },
        "id": "FfT6ASgfMaZR",
        "outputId": "e7aabc2c-2fb9-4073-8105-2247813b5770"
      },
      "execution_count": 2,
      "outputs": [
        {
          "output_type": "stream",
          "name": "stdout",
          "text": [
            "/content/AI-Portfolio-2025\n"
          ]
        }
      ]
    },
    {
      "cell_type": "code",
      "source": [
        "!ls"
      ],
      "metadata": {
        "colab": {
          "base_uri": "https://localhost:8080/"
        },
        "id": "1x88EJNvMhpC",
        "outputId": "92b29f24-5b85-4168-fa7b-80cf422d4bfb"
      },
      "execution_count": 3,
      "outputs": [
        {
          "output_type": "stream",
          "name": "stdout",
          "text": [
            "daily_progress\tlearning_logs  LICENSE\tprojects  README.md  requirements.txt  utils\n"
          ]
        }
      ]
    },
    {
      "cell_type": "code",
      "source": [
        "!mkdir -p daily_progress/2025-03-29"
      ],
      "metadata": {
        "id": "RjYHyGmbMipL"
      },
      "execution_count": 4,
      "outputs": []
    },
    {
      "cell_type": "code",
      "source": [],
      "metadata": {
        "id": "CxJ0_zqXNY5d"
      },
      "execution_count": null,
      "outputs": []
    }
  ]
}